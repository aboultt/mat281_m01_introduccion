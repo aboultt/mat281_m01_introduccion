{
 "cells": [
  {
   "cell_type": "code",
   "execution_count": null,
   "metadata": {
    "slideshow": {
     "slide_type": "skip"
    }
   },
   "outputs": [],
   "source": [
    "# NO OLVIDAR EJECUTAR ANTES DE LANZAR LIVE\n",
    "# Configuracion para recargar módulos y librerías \n",
    "%reload_ext autoreload\n",
    "%autoreload 2\n",
    "%matplotlib inline"
   ]
  },
  {
   "cell_type": "markdown",
   "metadata": {
    "slideshow": {
     "slide_type": "slide"
    }
   },
   "source": [
    "# MAT281\n",
    "\n",
    "## Aplicaciones de la Matemática en la Ingeniería\n",
    "\n",
    "Puedes ejecutar este jupyter notebook de manera interactiva:\n",
    "\n",
    "[![Binder](../shared/images/jupyter_binder.png)](https://mybinder.org/v2/gh/sebastiandres/mat281_m01_introduccion/master?filepath=01_sobre_el_curso/01_sobre_el_curso.ipynb)\n",
    "\n",
    "[![Binder](../shared/images/jupyter_colab.png)](https://colab.research.google.com/github/sebastiandres/mat281_m01_introduccion/blob/master/01_sobre_el_curso/01_sobre_el_curso.ipynb)"
   ]
  },
  {
   "cell_type": "markdown",
   "metadata": {
    "slideshow": {
     "slide_type": "slide"
    }
   },
   "source": [
    "## ¿Qué contenido aprenderemos?\n",
    "* ¿Quiénes?\n",
    "* ¿Cuándo?\n",
    "* ¿Qué?\n",
    "* ¿Como?\n",
    "* ¿Porqué?"
   ]
  },
  {
   "cell_type": "markdown",
   "metadata": {
    "slideshow": {
     "slide_type": "slide"
    }
   },
   "source": [
    "## ¿Quiénes somos?\n",
    "\n",
    "**Alberto Rubio** - Ayudante\n",
    "* Futuro Ingeniero Civil Matemático - UTFSM, Chile (2010-2018).\n",
    "* *Mención*: Estadística Aplicada\n",
    "* *Intereses*: Ingeniería Financiera.\n",
    "* *Actualmente*: terminando la memoria."
   ]
  },
  {
   "cell_type": "markdown",
   "metadata": {
    "slideshow": {
     "slide_type": "slide"
    }
   },
   "source": [
    "## ¿Quiénes somos?\n",
    "\n",
    "**Alonso Ogueda** - Profesor clases de laboratorio\n",
    "* Ingeniero Civil Matemático - UTFSM, Chile (2011-2017).\n",
    "* *Mención*: Estadística aplicada.\n",
    "* *Intereses*: Memes, altair, dejar blogs incompletos.\n",
    "* *Actualmente*: Data Scientist @ U-Planner"
   ]
  },
  {
   "cell_type": "markdown",
   "metadata": {
    "slideshow": {
     "slide_type": "slide"
    }
   },
   "source": [
    "## ¿Quiénes somos?\n",
    "\n",
    "**Sebastián Flores** - Profesor clases teóricas\n",
    "* Ingeniero Civil Matemático - UTFSM, Chile (2000-2008).\n",
    "* Ingeniero y Magíster en Mecánica - École Polytechnique, Francia (2005-2008).\n",
    "* Magíster en Computación y Matemática Aplicada - Stanford, EEUU (2010-2012).\n",
    "* *Intereses*: Data Science, Matemática y Educación.\n",
    "* *Actualmente*: CDO @ U-Planner (2015-presente)."
   ]
  },
  {
   "cell_type": "markdown",
   "metadata": {
    "slideshow": {
     "slide_type": "slide"
    }
   },
   "source": [
    "## ¿Cuándo aprenderemos?\n",
    "\n",
    "* *Clase \"teórica\"*: Martes, 15:40 a 17:10.\n",
    "* *Clase de laboratorio*: Viernes, 14:00 a 15:30. \n",
    "* *Ayudantías*: Por definir.\n",
    "* *Trabajo individual*: 2-3 horas por semana."
   ]
  },
  {
   "cell_type": "markdown",
   "metadata": {
    "slideshow": {
     "slide_type": "slide"
    }
   },
   "source": [
    "## ¿Qué aprenderemos?\n",
    "\n",
    "Según el programa de asignatura, la **descripción** del curso es:\n",
    "\n",
    "*El estudiante adquiere competencias específicas relevantes para la modelación matemática de problemas de ingeniería, que incluyen elementos básicos del análisis de datos, y uso de programas computacionales especializados. Se analizan problemas provenientes de la ingeniería.*\n"
   ]
  },
  {
   "cell_type": "markdown",
   "metadata": {
    "slideshow": {
     "slide_type": "slide"
    }
   },
   "source": [
    "## ¿Qué aprenderemos? \n",
    "\n",
    "Según el programa de asignatura, la contribución al **perfil de egreso** es:\n",
    "\n",
    "1. *Comprende los principales conceptos y fenómenos de la física, la química y las ciencias de la ingeniería.*\n",
    "1. *Aplica los conceptos y técnicas de la programación.*\n",
    "1. *Resuelve ecuaciones algebraicas y diferenciales mediante técnicas de aproximación, interpolación, integración y cálculo numérico.*\n",
    "1. *Expone hechos, ideas y argumentos de manera clara, ante grupos pequeños y medianos.*\n",
    "1. *Extrae y procesa datos para obtener información cualitativa de procesos y sistemas.*"
   ]
  },
  {
   "cell_type": "markdown",
   "metadata": {
    "slideshow": {
     "slide_type": "slide"
    }
   },
   "source": [
    "## ¿Qué aprenderemos?\n",
    "\n",
    "Según el programa de asignatura, los **resultados de aprendizaje** son:\n",
    "\n",
    "1. *Analiza el concepto de adimensionalización, determinando variables adimensionales en ecuaciones diferenciales.*\n",
    "2. *Evalúa el grado de una aproximación en un modelo matemático, utilizando métodos de cálculo del error.*\n",
    "3. *Determina la complejidad del análisis de grandes volúmenes de datos, aplicando técnicas matemáticas para su estudio.*\n",
    "4. *Diseña el esquema básico de un proyecto para resolver un problema dado, distinguiendo los principales elementos de un proyecto de ingeniería.*"
   ]
  },
  {
   "cell_type": "markdown",
   "metadata": {
    "slideshow": {
     "slide_type": "slide"
    }
   },
   "source": [
    "## ¿Qué aprenderemos?\n",
    "¿Son importantes estos conceptos o son sólo *palabrerías*? \n",
    "\n",
    "1. *Perfil de ingreso* versus *Perfil de egreso*\n",
    "1. *Programa de Asignatura* versus *Syllabus de Asignatura*\n",
    "1. *Resultados de Aprendizaje* versus *Competencias*\n",
    "1. *Asignatura* versus *Actividad*"
   ]
  },
  {
   "cell_type": "markdown",
   "metadata": {
    "slideshow": {
     "slide_type": "slide"
    }
   },
   "source": [
    "## ¿Qué aprenderemos?\n",
    "\n",
    "¿Es bueno o malo aplicar ingeniería de la educación?\n",
    "\n",
    "<img src=\"images/factory-model-education2.jpg\" alt=\"\" align=\"middle\"/>"
   ]
  },
  {
   "cell_type": "markdown",
   "metadata": {
    "slideshow": {
     "slide_type": "slide"
    }
   },
   "source": [
    "## ¿Qué aprenderemos?\n",
    "\n",
    "Ingeniería busca:\n",
    "* Mejor utilización de recursos.\n",
    "* Garantizar calidad y reproducibilidad.\n",
    "* Detectar malas prácticas e ineficiencias.\n",
    "* Utilizar las mejores herramientas para el problema.\n",
    "* Definir métricas para determinar, controlar y mejorar el estado de un sistema."
   ]
  },
  {
   "cell_type": "markdown",
   "metadata": {
    "slideshow": {
     "slide_type": "slide"
    }
   },
   "source": [
    "## ¿Qué aprenderemos?\n",
    "\n",
    "* ¿Porqué estás estudiando ICM? ¿Porqué en la UTFSM?\n",
    "* ¿Qué has aprendido de ICM que no hubieras podido aprender en otra carrera u online?\n",
    "* ¿Qué conocimientos y herramientas posees para el mundo laboral real?"
   ]
  },
  {
   "cell_type": "markdown",
   "metadata": {
    "slideshow": {
     "slide_type": "slide"
    }
   },
   "source": [
    "## ¿Qué aprenderemos?\n",
    "\n",
    "Hagamos una breve encuesta interactiva:\n",
    "\n",
    "* Acceder a h/j/k."
   ]
  },
  {
   "cell_type": "markdown",
   "metadata": {
    "slideshow": {
     "slide_type": "slide"
    }
   },
   "source": [
    "## ¿Qué aprenderemos?\n",
    "### Programa del curso\n",
    "\n",
    "* **Módulo 1** [2 semanas] *Introducción*: Planificación del curso, reglas, herramientas, setup, consejos y otros temas introductorios.\n",
    "\n",
    "* **Módulo 2** [3 semanas] *Análisis de datos*: Tipos de datos, obtención de datos, detección de errores, análisis.\n",
    "\n",
    "* **Módulo 3** [2 semanas] *Visualización*: tipos de visualización, librerías más comunes, graficos dinámicos, etc.\n",
    "\n",
    "* **Módulo 4** [4 semanas] *Machine Learning*: Datasets, métricas, algoritmos de clasificación, clustering y regresión.  \n",
    "\n",
    "* **Módulo 5** [3 semanas] *Proyectos*: Aplicaciones en proyectos diversos."
   ]
  },
  {
   "cell_type": "markdown",
   "metadata": {
    "slideshow": {
     "slide_type": "slide"
    }
   },
   "source": [
    "## ¿Cómo?\n",
    "### ¿Cómo será el aprendizaje?"
   ]
  },
  {
   "cell_type": "markdown",
   "metadata": {
    "slideshow": {
     "slide_type": "fragment"
    }
   },
   "source": [
    "* **Módulo 1** [2 semanas] *Introducción*: 1 tarea $T_1$ y 2 laboratorios $L_1$ y $L_2$.\n",
    "\n",
    "* **Módulo 2** [3 semanas] *Análisis de datos*: 1 tarea $T_2$ y 3 laboratorios  $L_3$, $L_4$ y $L_5$.\n",
    "\n",
    "* **Módulo 3** [2 semanas] *Visualización*: 1 tarea $T_2$ y 2 laboratorios  $L_6$ y $L_7$.\n",
    "\n",
    "* **Módulo 4** [4 semanas] *Machine Learning*: 1 tarea $T_2$ y 4 laboratorios  $L_8$, $L_9$, $L_{10}$, $L_{11}$.\n",
    "\n",
    "* **Módulo 5** [3 semanas] *Proyectos*: 3 laboratorios de proyectos $P_1$, $P_2$, $P_3$."
   ]
  },
  {
   "cell_type": "markdown",
   "metadata": {
    "slideshow": {
     "slide_type": "slide"
    }
   },
   "source": [
    "## ¿Cómo?\n",
    "**¿Cómo será la evaluación?**"
   ]
  },
  {
   "cell_type": "markdown",
   "metadata": {
    "slideshow": {
     "slide_type": "fragment"
    }
   },
   "source": [
    "$$ \\begin{align*}\n",
    "T & = \\frac{1}{4}\\sum_{i=1}^{4} T_i \\\\\n",
    "L & = \\frac{1}{10}\\left[ \\sum_{i=1}^{11} L_i  - \\min_{i}L_i\\right]\\\\\n",
    "P & = \\frac{1}{3}\\sum_{i=1}^{3} P_i \\\\\n",
    "NF &= 0.4\\ T + 0.4 \\ L + 0.2 \\ P \\\\\n",
    "\\end{align*}\n",
    "$$"
   ]
  },
  {
   "cell_type": "markdown",
   "metadata": {
    "slideshow": {
     "slide_type": "slide"
    }
   },
   "source": [
    "## ¿Cómo?\n",
    "\n",
    "Diferencias con años anteriores:\n",
    "\n",
    "* No hay **lecturas** obligatorias.\n",
    "* No hay **proyectos**: semestre es muy corto y no hay suficiente tiempo para el desarrollo adecuado de un proyecto.\n",
    "* Menor carga de trabajo fuera de clases: mayor énfasis en **laboratorios y participación en clases**.\n",
    "* Tareas se entregan directamente en **jupyter notebook** y se revisará reproducibilidad de resultados presentados. "
   ]
  },
  {
   "cell_type": "markdown",
   "metadata": {
    "slideshow": {
     "slide_type": "slide"
    }
   },
   "source": [
    "## ¿Porqué?\n",
    "### ¿Porqué python?\n",
    "\n",
    "\n",
    "\n",
    "* Programaremos en **Python**, con las librerías numpy, pandas, scipy, matplotlib y sklearn, entre otras.\n",
    "* Haremos uso en clase y laboratorios de **IPython** y **Jupyter Notebook**"
   ]
  },
  {
   "cell_type": "markdown",
   "metadata": {
    "slideshow": {
     "slide_type": "slide"
    }
   },
   "source": [
    "## ¿Porqué?\n",
    "### ¿Porqué python?"
   ]
  },
  {
   "cell_type": "code",
   "execution_count": null,
   "metadata": {
    "slideshow": {
     "slide_type": "fragment"
    }
   },
   "outputs": [],
   "source": [
    "from matplotlib import pyplot as plt\n",
    "import numpy as np\n",
    "x = np.linspace(1E-8,np.pi/6,1000)\n",
    "y = x*np.sin(1./x)\n",
    "plt.figure(figsize=(10,6))\n",
    "plt.plot(x, y)\n",
    "plt.plot(x, x)\n",
    "plt.plot(x,-x)\n",
    "plt.xlabel(\"x\", fontsize=16)\n",
    "plt.ylabel(\"$x \\ sin(x)$\", fontsize=16)\n",
    "plt.show()"
   ]
  },
  {
   "cell_type": "markdown",
   "metadata": {
    "slideshow": {
     "slide_type": "slide"
    }
   },
   "source": [
    "## ¿Porqué?\n",
    "### ¿Porqué Python?"
   ]
  },
  {
   "cell_type": "code",
   "execution_count": null,
   "metadata": {
    "slideshow": {
     "slide_type": "fragment"
    }
   },
   "outputs": [],
   "source": [
    "import glob\n",
    "import os\n",
    "file_pattern = os.path.join(\"images\", \"*education2.jpg\")\n",
    "all_possible_pictures = glob.glob(file_pattern)\n",
    "print(all_possible_pictures)"
   ]
  },
  {
   "cell_type": "code",
   "execution_count": null,
   "metadata": {
    "slideshow": {
     "slide_type": "slide"
    }
   },
   "outputs": [],
   "source": [
    "my_picture = all_possible_pictures[0]\n",
    "print(my_picture)"
   ]
  },
  {
   "cell_type": "markdown",
   "metadata": {
    "slideshow": {
     "slide_type": "fragment"
    }
   },
   "source": [
    "<img src=\"images/factory-model-education2.jpg\" alt=\"\" align=\"middle\"/>"
   ]
  },
  {
   "cell_type": "code",
   "execution_count": null,
   "metadata": {
    "slideshow": {
     "slide_type": "slide"
    }
   },
   "outputs": [],
   "source": [
    "from matplotlib import pyplot as plt\n",
    "from PIL import Image\n",
    "import numpy as np\n",
    "PIL_image = Image.open(my_picture)\n",
    "print(PIL_image)"
   ]
  },
  {
   "cell_type": "code",
   "execution_count": null,
   "metadata": {
    "slideshow": {
     "slide_type": "slide"
    }
   },
   "outputs": [],
   "source": [
    "type(PIL_image)"
   ]
  },
  {
   "cell_type": "code",
   "execution_count": null,
   "metadata": {},
   "outputs": [],
   "source": [
    "pixels = np.array(PIL_image)\n",
    "pixels.shape"
   ]
  },
  {
   "cell_type": "code",
   "execution_count": null,
   "metadata": {
    "slideshow": {
     "slide_type": "slide"
    }
   },
   "outputs": [],
   "source": [
    "plt.matshow(pixels[0,:,:])"
   ]
  },
  {
   "cell_type": "code",
   "execution_count": null,
   "metadata": {
    "slideshow": {
     "slide_type": "slide"
    }
   },
   "outputs": [],
   "source": [
    "plt.matshow(pixels[:,:,0])\n",
    "plt.colorbar()"
   ]
  },
  {
   "cell_type": "code",
   "execution_count": null,
   "metadata": {
    "slideshow": {
     "slide_type": "slide"
    }
   },
   "outputs": [],
   "source": [
    "plt.matshow(pixels[:,:,0], \n",
    "            cmap=plt.get_cmap(\"gray\")) #Reds, Greens, Blues, gray\n",
    "plt.colorbar()"
   ]
  },
  {
   "cell_type": "code",
   "execution_count": null,
   "metadata": {
    "slideshow": {
     "slide_type": "slide"
    }
   },
   "outputs": [],
   "source": [
    "new_pixels = pixels.max() - pixels"
   ]
  },
  {
   "cell_type": "code",
   "execution_count": null,
   "metadata": {
    "slideshow": {
     "slide_type": "slide"
    }
   },
   "outputs": [],
   "source": [
    "plt.matshow(new_pixels[:,:,0], cmap=plt.get_cmap(\"gray\"))\n",
    "plt.colorbar()"
   ]
  },
  {
   "cell_type": "code",
   "execution_count": null,
   "metadata": {
    "slideshow": {
     "slide_type": "slide"
    }
   },
   "outputs": [],
   "source": [
    "new_PIL_image = Image.fromarray(new_pixels, mode='RGB')"
   ]
  },
  {
   "cell_type": "code",
   "execution_count": null,
   "metadata": {
    "slideshow": {
     "slide_type": "slide"
    }
   },
   "outputs": [],
   "source": [
    "new_PIL_image.save(os.path.join(\"images\", \"inverted_picture.jpg\"))"
   ]
  },
  {
   "cell_type": "markdown",
   "metadata": {
    "slideshow": {
     "slide_type": "fragment"
    }
   },
   "source": [
    "<img src=\"images/inverted_picture.jpg\" alt=\"\" align=\"middle\"/>"
   ]
  },
  {
   "cell_type": "markdown",
   "metadata": {
    "slideshow": {
     "slide_type": "slide"
    }
   },
   "source": [
    "## ¿Cómo?\n",
    "**Pero profe, yo no sé programar...**"
   ]
  },
  {
   "cell_type": "markdown",
   "metadata": {
    "slideshow": {
     "slide_type": "fragment"
    }
   },
   "source": [
    "* Al salir de ICM, yo tampoco sabía... \n",
    "   * Pero resulta una habilidad esencial hoy en día.\n",
    "   * Algunos incluso proponen que no saber Data Science es el nuevo analfabetismo.\n",
    "* Python es multipropósito. \n",
    "   * Les servirá para cualquier trabajo que terminen realizando.\n",
    "* ICM debe saber trabajar con datos. \n",
    "   * Aprendan a usar excel y python-pandas.\n",
    "* El énfasis en aplicar, no en programar desde cero.\n",
    "* Todas las clases serán compartidas y vendrán con código de ejemplo para aprender y extender."
   ]
  },
  {
   "cell_type": "markdown",
   "metadata": {
    "slideshow": {
     "slide_type": "slide"
    }
   },
   "source": [
    "## ¿Porqué?\n",
    "### ¿Porqué Jupyter Notebooks?\n",
    "\n",
    "* Facilidad de escritura (markdown, html, latex, python y otros lenguajes).\n",
    "* Facilidad de ejecución (python y otros lenguajes).\n",
    "* Es una herramienta versátil de trabajo, aprendizaje, exploración y documentación.\n",
    "* Facil de publicar y distribuir."
   ]
  },
  {
   "cell_type": "markdown",
   "metadata": {
    "slideshow": {
     "slide_type": "slide"
    }
   },
   "source": [
    "<img src=\"images/saint_curious_george.png\" alt=\"\" align=\"middle\"/>"
   ]
  },
  {
   "cell_type": "markdown",
   "metadata": {
    "slideshow": {
     "slide_type": "slide"
    }
   },
   "source": [
    "## ¿Porqué? \n",
    "### ¿Porqué dictar este curso?\n",
    "\n",
    "* Flexibilidad temática.\n",
    "* Potencial de los alumnos.\n",
    "* Compartir mi experiencia como ICM."
   ]
  },
  {
   "cell_type": "markdown",
   "metadata": {
    "slideshow": {
     "slide_type": "slide"
    }
   },
   "source": [
    "##  Motivación\n",
    "### Mi experiencia como ICM recién egresado\n",
    "\n",
    "<img src=\"images/AG1.png\" alt=\"\" align=\"middle\"/>"
   ]
  },
  {
   "cell_type": "markdown",
   "metadata": {
    "slideshow": {
     "slide_type": "slide"
    }
   },
   "source": [
    "##  Motivación\n",
    "<img src=\"images/AG2.png\" alt=\"\" align=\"middle\"/>"
   ]
  },
  {
   "cell_type": "markdown",
   "metadata": {
    "slideshow": {
     "slide_type": "slide"
    }
   },
   "source": [
    "## Motivación\n",
    "\n",
    "¿Porqué hay tanta diferencia entre el mundo académico y el mundo industrial?"
   ]
  },
  {
   "cell_type": "markdown",
   "metadata": {
    "slideshow": {
     "slide_type": "slide"
    }
   },
   "source": [
    "##  Motivación\n",
    "\n",
    "<img src=\"images/XKCD_purity1.png\" alt=\"\" align=\"middle\"/>"
   ]
  },
  {
   "cell_type": "markdown",
   "metadata": {
    "slideshow": {
     "slide_type": "slide"
    }
   },
   "source": [
    "##  Motivación\n",
    "\n",
    "<img src=\"images/XKCD_purity2.png\" alt=\"\" align=\"middle\"/>"
   ]
  },
  {
   "cell_type": "markdown",
   "metadata": {
    "slideshow": {
     "slide_type": "slide"
    }
   },
   "source": [
    "# 3 Ejemplos Simples"
   ]
  },
  {
   "cell_type": "markdown",
   "metadata": {
    "slideshow": {
     "slide_type": "slide"
    }
   },
   "source": [
    "## Ejemplo 1: Importancia del Contexto\n",
    "\n",
    "* Todo problema depende fuertemente del contexto. \n",
    "* Existe un gran valor en el conocimiento específico del dominio.\n",
    "\n",
    "* ¿Cuál es el valor promedio de los siguientes valores?\n",
    "$$1.2,\\  2.2,\\  2.6,\\  3.1,\\  3.1,\\  3.2,\\  3.3,\\  3.6,\\  3.6,\\  4.3$$"
   ]
  },
  {
   "cell_type": "code",
   "execution_count": null,
   "metadata": {
    "slideshow": {
     "slide_type": "-"
    }
   },
   "outputs": [],
   "source": [
    "# Calculando el promedio\n",
    "a = np.array([0.6, 1.2, 2.2, 2.6, 3.1, 3.1, 3.2, 3.3, 3.6, 3.6, 4.3])\n",
    "print(\"Promedio\", a.mean())\n",
    "print(\"Mínimo\", a.min())\n",
    "print(\"Máximo\", a.max())\n",
    "print(\"Desviación Estándar\", a.std())\n"
   ]
  },
  {
   "cell_type": "markdown",
   "metadata": {
    "slideshow": {
     "slide_type": "slide"
    }
   },
   "source": [
    "## Ejemplo 1: Importancia del Contexto\n",
    "* ¿Cómo cambia su respuesta si se sabe que $x$ es una medición angular en radianes? \n"
   ]
  },
  {
   "cell_type": "code",
   "execution_count": null,
   "metadata": {},
   "outputs": [],
   "source": [
    "# Intento 1: Promedio de valores\n",
    "a = np.array([0.6, 1.2, 2.2, 2.6, 3.1, 3.1, 3.2, 3.3, 3.6, 3.6, 4.3])\n",
    "a_mean = a.mean()\n",
    "print(\"Promedio angular: {0:.2f} [rad] ó {1:.2f} [deg]\".format(a_mean, a_mean*180/np.pi))"
   ]
  },
  {
   "cell_type": "code",
   "execution_count": null,
   "metadata": {
    "slideshow": {
     "slide_type": "slide"
    }
   },
   "outputs": [],
   "source": [
    "plt.figure(figsize=(14,3))\n",
    "plt.plot(a, 0*a, 'go', alpha=0.75)\n",
    "plt.plot([a.mean(), a.mean()], [-1,1], '-g', lw=2.0)\n",
    "plt.gca().set_yticks([])\n",
    "plt.show()"
   ]
  },
  {
   "cell_type": "markdown",
   "metadata": {
    "slideshow": {
     "slide_type": "slide"
    }
   },
   "source": [
    "## Ejemplo 1: Importancia del Contexto\n",
    "Si suponemos que el radio es constante, podemos realizar un promedio de posiciones espaciales:"
   ]
  },
  {
   "cell_type": "code",
   "execution_count": null,
   "metadata": {
    "slideshow": {
     "slide_type": "-"
    }
   },
   "outputs": [],
   "source": [
    "# Intento 2: Promedio de posiciones\n",
    "cos_mean = np.cos(a).mean()\n",
    "sin_mean = np.sin(a).mean()"
   ]
  },
  {
   "cell_type": "code",
   "execution_count": null,
   "metadata": {
    "slideshow": {
     "slide_type": "slide"
    }
   },
   "outputs": [],
   "source": [
    "plt.figure(figsize=(14,3))\n",
    "plt.subplot(2,1,1)\n",
    "plt.plot(np.cos(a), 0*a, 'bo', alpha=0.75)\n",
    "plt.plot([cos_mean, cos_mean], [-1,1], '-b', lw=2.0)\n",
    "plt.xlabel(\"cos(a)\")\n",
    "plt.subplot(2,1,2)\n",
    "plt.plot(np.sin(a), 0*a, 'rs', alpha=0.75)\n",
    "plt.plot([sin_mean, sin_mean], [-1,1], '-r', lw=2.0)\n",
    "plt.xlabel(\"sin(a)\")\n",
    "plt.tight_layout()\n",
    "plt.show()"
   ]
  },
  {
   "cell_type": "code",
   "execution_count": null,
   "metadata": {
    "slideshow": {
     "slide_type": "slide"
    }
   },
   "outputs": [],
   "source": [
    "def plot_means(x):\n",
    "    # Figure properties\n",
    "    plt.figure(figsize=(10,10))\n",
    "    # Draw the center of the circle\n",
    "    plt.plot(0, 0, 'k.', alpha=1.0)\n",
    "    # Draw the circle\n",
    "    aux_th = np.arange(0,1000.)*2*np.pi/1000.\n",
    "    plt.plot(np.cos(aux_th), np.sin(aux_th), 'k-', alpha=1.0)\n",
    "    # Draw the measurements\n",
    "    plt.plot(np.cos(x), np.sin(x), 'y*', alpha=0.75, ms=16,\n",
    "             label=\"Mediciones\")\n",
    "    # Draw first average\n",
    "    x_mean = x.mean()\n",
    "    plt.plot(np.cos(x_mean), np.sin(x_mean), 'go', alpha=1.0, ms=16, \n",
    "             label=\"Promedio de valores\") \n",
    "    plt.plot([0,np.cos(x_mean)], [0,np.sin(x_mean)], 'k-', alpha=0.5)    \n",
    "    # Draw second average\n",
    "    cos_mean = np.cos(x).mean()\n",
    "    sin_mean = np.sin(x).mean()\n",
    "    plt.plot(cos_mean, sin_mean, 'rs', alpha=1.0, ms=16, \n",
    "             label=\"Promedio de posiciones\")\n",
    "    plt.plot([0,cos_mean], [0,sin_mean], 'k-', alpha=0.5)    \n",
    "    # Draw third average\n",
    "    r = (cos_mean**2 + sin_mean**2)**.5\n",
    "    plt.plot(cos_mean/r, sin_mean/r, 'b>', alpha=1.0, ms=16, \n",
    "             label=\"Promedios de posiciones + Contexto\") \n",
    "    plt.plot([0,cos_mean/r], [0,sin_mean/r], 'k-', alpha=0.5)    \n",
    "    # Fix plot properties\n",
    "    plt.xlim([-1.1, 1.1])\n",
    "    plt.ylim([-1.1, 1.1])\n",
    "    plt.legend(fontsize=16, numpoints=1, bbox_to_anchor=(1.75, 0.5))\n",
    "    plt.xlabel(r\"$x=cos(\\theta)$ [$L$]\", fontsize=16)\n",
    "    plt.ylabel(r\"$x=sin(\\theta)$ [$L$]\", fontsize=16)"
   ]
  },
  {
   "cell_type": "code",
   "execution_count": null,
   "metadata": {
    "slideshow": {
     "slide_type": "slide"
    }
   },
   "outputs": [],
   "source": [
    "plot_means(a)"
   ]
  },
  {
   "cell_type": "markdown",
   "metadata": {
    "slideshow": {
     "slide_type": "slide"
    }
   },
   "source": [
    "## Ejemplo 2: Aplicación de conocimiento\n",
    "\n",
    "Ejemplo real: \n",
    " * Código está presente en el software QUESTION (módulo de preprocesamiento de datos, software de propagación de tsunamis).\n",
    " * Ver https://bitbucket.org/sebastiandres/question\n",
    " * Diferencia entre conocer y hacer."
   ]
  },
  {
   "cell_type": "markdown",
   "metadata": {
    "slideshow": {
     "slide_type": "slide"
    }
   },
   "source": [
    "## Ejemplo 2: Aplicación de conocimiento\n",
    "\n",
    "* Dominio ha sido mallado utilizando triángulos no regulares.\n",
    "* Método numérico require extender el dominio generando \"ghost-cells\" para poder aplicar condiciones de frontera.\n",
    "* ¿Cómo podemos obtener el borde y generar automáticamente las ghost-cells?"
   ]
  },
  {
   "cell_type": "markdown",
   "metadata": {
    "slideshow": {
     "slide_type": "slide"
    }
   },
   "source": [
    "## Ejemplo 2: Aplicación de conocimiento\n",
    "### Condiciones de Frontera Periódicas\n",
    "<img src=\"images/QAS1.png\" alt=\"\" width=\"800px\" align=\"middle\"/>"
   ]
  },
  {
   "cell_type": "markdown",
   "metadata": {
    "slideshow": {
     "slide_type": "slide"
    }
   },
   "source": [
    "## Ejemplo 2: Aplicación de conocimiento\n",
    "### Condiciones de Frontera Reflectantes\n",
    "<img src=\"images/QAS2.png\" alt=\"\" width=\"800px\" align=\"middle\"/>"
   ]
  },
  {
   "cell_type": "markdown",
   "metadata": {
    "slideshow": {
     "slide_type": "slide"
    }
   },
   "source": [
    "## Ejemplo 2: Aplicación de conocimiento\n",
    "### Condiciones de Frontera No Reflectantes\n",
    "<img src=\"images/QAS3.png\" alt=\"\" width=\"800px\" align=\"middle\"/>"
   ]
  },
  {
   "cell_type": "markdown",
   "metadata": {
    "slideshow": {
     "slide_type": "slide"
    }
   },
   "source": [
    "## Ejemplo 2: Aplicación de conocimiento\n",
    "* ¿Cómo simplificar y modelar el problema (matemáticamente)?\n",
    "* ¿Cómo implementar una solución compatible con la estructura actual del problema?\n",
    " "
   ]
  },
  {
   "cell_type": "markdown",
   "metadata": {
    "slideshow": {
     "slide_type": "slide"
    }
   },
   "source": [
    "## Ejemplo 3: Visualización\n",
    "\n",
    "Visualización de resultados es crucial.\n",
    "\n",
    "<img src=\"images/Ej1_bad.png\" alt=\"\" width=\"500px\"  align=\"center\"/>"
   ]
  },
  {
   "cell_type": "markdown",
   "metadata": {
    "slideshow": {
     "slide_type": "slide"
    }
   },
   "source": [
    "## Ejemplo 3: Visualización\n",
    "\n",
    "### Problemas del gráfico anterior\n",
    "* Requiere interacción 3D para comprender la superficie.\n",
    "* No se pueden inferir valores a partir del gráfico.\n",
    "* Mapa de colores es arbitrario y engañoso."
   ]
  },
  {
   "cell_type": "markdown",
   "metadata": {
    "slideshow": {
     "slide_type": "slide"
    }
   },
   "source": [
    "## Ejemplo 3: Visualización\n",
    "\n",
    "### Solución\n",
    "<img src=\"images/Ej1_good.png\" alt=\"\" width=\"500px\" align=\"middle\"/>"
   ]
  },
  {
   "cell_type": "markdown",
   "metadata": {
    "slideshow": {
     "slide_type": "slide"
    }
   },
   "source": [
    "# Regla de las 10,000 horas\n",
    "* Toda habilidad require trabajo\n",
    " * Matemática\n",
    " * Ingeniería\n",
    " * Programación\n",
    " \n",
    " Este curso desarrollaremos habilidades para poder facilitarles su trabajo en ingeniería: el mundo de los datos reales y de las aproximaciones.\n",
    " "
   ]
  },
  {
   "cell_type": "markdown",
   "metadata": {
    "slideshow": {
     "slide_type": "slide"
    }
   },
   "source": [
    "<img src=\"images/zeus_square.png\" alt=\"\" width=\"600px\" align=\"middle\"/>"
   ]
  },
  {
   "cell_type": "markdown",
   "metadata": {
    "slideshow": {
     "slide_type": "slide"
    }
   },
   "source": [
    "## Resumen\n",
    "* Curso atípico: interactivo y enfásis en vinculación a \"mundo real\"\n",
    "* Trabajo con datos reales: esencial\n",
    "* Programaremos en python\n",
    "* Para aprobar: ¡trabajar!"
   ]
  }
 ],
 "metadata": {
  "celltoolbar": "Slideshow",
  "kernelspec": {
   "display_name": "Python 3",
   "language": "python",
   "name": "python3"
  },
  "language_info": {
   "codemirror_mode": {
    "name": "ipython",
    "version": 3
   },
   "file_extension": ".py",
   "mimetype": "text/x-python",
   "name": "python",
   "nbconvert_exporter": "python",
   "pygments_lexer": "ipython3",
   "version": "3.5.2"
  }
 },
 "nbformat": 4,
 "nbformat_minor": 2
}
